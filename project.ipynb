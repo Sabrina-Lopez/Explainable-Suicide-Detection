{
 "cells": [
  {
   "cell_type": "code",
   "execution_count": 77,
   "metadata": {},
   "outputs": [
    {
     "name": "stdout",
     "output_type": "stream",
     "text": [
      "Requirement already satisfied: pandas in /sfs/gpfs/tardis/home/ckp6ac/.conda/envs/nlp/lib/python3.9/site-packages (2.2.3)\n",
      "Requirement already satisfied: pyarrow in /sfs/gpfs/tardis/home/ckp6ac/.conda/envs/nlp/lib/python3.9/site-packages (18.1.0)\n",
      "Requirement already satisfied: fastparquet in /sfs/gpfs/tardis/home/ckp6ac/.conda/envs/nlp/lib/python3.9/site-packages (2024.11.0)\n",
      "Requirement already satisfied: numpy>=1.22.4 in /sfs/gpfs/tardis/home/ckp6ac/.conda/envs/nlp/lib/python3.9/site-packages (from pandas) (2.0.2)\n",
      "Requirement already satisfied: python-dateutil>=2.8.2 in /sfs/gpfs/tardis/home/ckp6ac/.conda/envs/nlp/lib/python3.9/site-packages (from pandas) (2.9.0.post0)\n",
      "Requirement already satisfied: pytz>=2020.1 in /sfs/gpfs/tardis/home/ckp6ac/.conda/envs/nlp/lib/python3.9/site-packages (from pandas) (2024.2)\n",
      "Requirement already satisfied: tzdata>=2022.7 in /sfs/gpfs/tardis/home/ckp6ac/.conda/envs/nlp/lib/python3.9/site-packages (from pandas) (2024.2)\n",
      "Requirement already satisfied: cramjam>=2.3 in /sfs/gpfs/tardis/home/ckp6ac/.conda/envs/nlp/lib/python3.9/site-packages (from fastparquet) (2.9.0)\n",
      "Requirement already satisfied: fsspec in /sfs/gpfs/tardis/home/ckp6ac/.conda/envs/nlp/lib/python3.9/site-packages (from fastparquet) (2024.10.0)\n",
      "Requirement already satisfied: packaging in /sfs/gpfs/tardis/home/ckp6ac/.conda/envs/nlp/lib/python3.9/site-packages (from fastparquet) (24.2)\n",
      "Requirement already satisfied: six>=1.5 in /sfs/gpfs/tardis/home/ckp6ac/.conda/envs/nlp/lib/python3.9/site-packages (from python-dateutil>=2.8.2->pandas) (1.17.0)\n"
     ]
    }
   ],
   "source": [
    "!pip install pandas pyarrow fastparquet"
   ]
  },
  {
   "cell_type": "code",
   "execution_count": 78,
   "metadata": {},
   "outputs": [
    {
     "name": "stdout",
     "output_type": "stream",
     "text": [
      "Requirement already satisfied: huggingface_hub in /sfs/gpfs/tardis/home/ckp6ac/.conda/envs/nlp/lib/python3.9/site-packages (0.26.5)\n",
      "Requirement already satisfied: fsspec in /sfs/gpfs/tardis/home/ckp6ac/.conda/envs/nlp/lib/python3.9/site-packages (2024.10.0)\n",
      "Requirement already satisfied: filelock in /sfs/gpfs/tardis/home/ckp6ac/.conda/envs/nlp/lib/python3.9/site-packages (from huggingface_hub) (3.16.1)\n",
      "Requirement already satisfied: packaging>=20.9 in /sfs/gpfs/tardis/home/ckp6ac/.conda/envs/nlp/lib/python3.9/site-packages (from huggingface_hub) (24.2)\n",
      "Requirement already satisfied: pyyaml>=5.1 in /sfs/gpfs/tardis/home/ckp6ac/.conda/envs/nlp/lib/python3.9/site-packages (from huggingface_hub) (6.0.2)\n",
      "Requirement already satisfied: requests in /sfs/gpfs/tardis/home/ckp6ac/.conda/envs/nlp/lib/python3.9/site-packages (from huggingface_hub) (2.32.3)\n",
      "Requirement already satisfied: tqdm>=4.42.1 in /sfs/gpfs/tardis/home/ckp6ac/.conda/envs/nlp/lib/python3.9/site-packages (from huggingface_hub) (4.67.1)\n",
      "Requirement already satisfied: typing-extensions>=3.7.4.3 in /sfs/gpfs/tardis/home/ckp6ac/.conda/envs/nlp/lib/python3.9/site-packages (from huggingface_hub) (4.12.2)\n",
      "Requirement already satisfied: charset-normalizer<4,>=2 in /sfs/gpfs/tardis/home/ckp6ac/.conda/envs/nlp/lib/python3.9/site-packages (from requests->huggingface_hub) (3.4.0)\n",
      "Requirement already satisfied: idna<4,>=2.5 in /sfs/gpfs/tardis/home/ckp6ac/.conda/envs/nlp/lib/python3.9/site-packages (from requests->huggingface_hub) (3.10)\n",
      "Requirement already satisfied: urllib3<3,>=1.21.1 in /sfs/gpfs/tardis/home/ckp6ac/.conda/envs/nlp/lib/python3.9/site-packages (from requests->huggingface_hub) (2.2.3)\n",
      "Requirement already satisfied: certifi>=2017.4.17 in /sfs/gpfs/tardis/home/ckp6ac/.conda/envs/nlp/lib/python3.9/site-packages (from requests->huggingface_hub) (2024.8.30)\n",
      "Note: you may need to restart the kernel to use updated packages.\n"
     ]
    }
   ],
   "source": [
    "pip install huggingface_hub fsspec"
   ]
  },
  {
   "cell_type": "code",
   "execution_count": 79,
   "metadata": {},
   "outputs": [],
   "source": [
    "import pandas as pd\n",
    "\n",
    "df = pd.read_parquet(\"hf://datasets/KAIST-IC-LAB721/SDCNL/data/train-00000-of-00001.parquet\")"
   ]
  },
  {
   "cell_type": "code",
   "execution_count": 80,
   "metadata": {},
   "outputs": [
    {
     "name": "stdout",
     "output_type": "stream",
     "text": [
      "Requirement already satisfied: huggingface_hub in /sfs/gpfs/tardis/home/ckp6ac/.conda/envs/nlp/lib/python3.9/site-packages (0.26.5)\n",
      "Requirement already satisfied: filelock in /sfs/gpfs/tardis/home/ckp6ac/.conda/envs/nlp/lib/python3.9/site-packages (from huggingface_hub) (3.16.1)\n",
      "Requirement already satisfied: fsspec>=2023.5.0 in /sfs/gpfs/tardis/home/ckp6ac/.conda/envs/nlp/lib/python3.9/site-packages (from huggingface_hub) (2024.10.0)\n",
      "Requirement already satisfied: packaging>=20.9 in /sfs/gpfs/tardis/home/ckp6ac/.conda/envs/nlp/lib/python3.9/site-packages (from huggingface_hub) (24.2)\n",
      "Requirement already satisfied: pyyaml>=5.1 in /sfs/gpfs/tardis/home/ckp6ac/.conda/envs/nlp/lib/python3.9/site-packages (from huggingface_hub) (6.0.2)\n",
      "Requirement already satisfied: requests in /sfs/gpfs/tardis/home/ckp6ac/.conda/envs/nlp/lib/python3.9/site-packages (from huggingface_hub) (2.32.3)\n",
      "Requirement already satisfied: tqdm>=4.42.1 in /sfs/gpfs/tardis/home/ckp6ac/.conda/envs/nlp/lib/python3.9/site-packages (from huggingface_hub) (4.67.1)\n",
      "Requirement already satisfied: typing-extensions>=3.7.4.3 in /sfs/gpfs/tardis/home/ckp6ac/.conda/envs/nlp/lib/python3.9/site-packages (from huggingface_hub) (4.12.2)\n",
      "Requirement already satisfied: charset-normalizer<4,>=2 in /sfs/gpfs/tardis/home/ckp6ac/.conda/envs/nlp/lib/python3.9/site-packages (from requests->huggingface_hub) (3.4.0)\n",
      "Requirement already satisfied: idna<4,>=2.5 in /sfs/gpfs/tardis/home/ckp6ac/.conda/envs/nlp/lib/python3.9/site-packages (from requests->huggingface_hub) (3.10)\n",
      "Requirement already satisfied: urllib3<3,>=1.21.1 in /sfs/gpfs/tardis/home/ckp6ac/.conda/envs/nlp/lib/python3.9/site-packages (from requests->huggingface_hub) (2.2.3)\n",
      "Requirement already satisfied: certifi>=2017.4.17 in /sfs/gpfs/tardis/home/ckp6ac/.conda/envs/nlp/lib/python3.9/site-packages (from requests->huggingface_hub) (2024.8.30)\n"
     ]
    }
   ],
   "source": [
    "!pip install huggingface_hub"
   ]
  },
  {
   "cell_type": "code",
   "execution_count": 81,
   "metadata": {},
   "outputs": [
    {
     "data": {
      "text/html": [
       "<div>\n",
       "<style scoped>\n",
       "    .dataframe tbody tr th:only-of-type {\n",
       "        vertical-align: middle;\n",
       "    }\n",
       "\n",
       "    .dataframe tbody tr th {\n",
       "        vertical-align: top;\n",
       "    }\n",
       "\n",
       "    .dataframe thead th {\n",
       "        text-align: right;\n",
       "    }\n",
       "</style>\n",
       "<table border=\"1\" class=\"dataframe\">\n",
       "  <thead>\n",
       "    <tr style=\"text-align: right;\">\n",
       "      <th></th>\n",
       "      <th>title</th>\n",
       "      <th>text</th>\n",
       "      <th>label</th>\n",
       "      <th>label_text</th>\n",
       "    </tr>\n",
       "  </thead>\n",
       "  <tbody>\n",
       "    <tr>\n",
       "      <th>0</th>\n",
       "      <td>Need help</td>\n",
       "      <td>Hi I don't really know how to phrase this situ...</td>\n",
       "      <td>0</td>\n",
       "      <td>depression</td>\n",
       "    </tr>\n",
       "    <tr>\n",
       "      <th>1</th>\n",
       "      <td>feeling so overwhelmed and hopeless</td>\n",
       "      <td>i have been so depressed these past couple wee...</td>\n",
       "      <td>1</td>\n",
       "      <td>suicidal</td>\n",
       "    </tr>\n",
       "    <tr>\n",
       "      <th>2</th>\n",
       "      <td>Nothing matters anymore, getting worse</td>\n",
       "      <td>Hi..I don't know where else to go. I am devast...</td>\n",
       "      <td>0</td>\n",
       "      <td>depression</td>\n",
       "    </tr>\n",
       "    <tr>\n",
       "      <th>3</th>\n",
       "      <td>Who’s tired of hearing bullshit</td>\n",
       "      <td>The shit like “it will get better, everyone is...</td>\n",
       "      <td>1</td>\n",
       "      <td>suicidal</td>\n",
       "    </tr>\n",
       "    <tr>\n",
       "      <th>4</th>\n",
       "      <td>I wish I was someone else.</td>\n",
       "      <td>I wish I was prettier. I wish I didn’t feel li...</td>\n",
       "      <td>0</td>\n",
       "      <td>depression</td>\n",
       "    </tr>\n",
       "    <tr>\n",
       "      <th>...</th>\n",
       "      <td>...</td>\n",
       "      <td>...</td>\n",
       "      <td>...</td>\n",
       "      <td>...</td>\n",
       "    </tr>\n",
       "    <tr>\n",
       "      <th>1890</th>\n",
       "      <td>think its over</td>\n",
       "      <td>i just don’t wanna live anymore so yeah</td>\n",
       "      <td>0</td>\n",
       "      <td>depression</td>\n",
       "    </tr>\n",
       "    <tr>\n",
       "      <th>1891</th>\n",
       "      <td>To all of those feeling isolated and suffering...</td>\n",
       "      <td>I’ve learned that life is fucking sad sometime...</td>\n",
       "      <td>0</td>\n",
       "      <td>depression</td>\n",
       "    </tr>\n",
       "    <tr>\n",
       "      <th>1892</th>\n",
       "      <td>I just really wish I had died the first time I...</td>\n",
       "      <td>That's all. Nothing has gotten better and I've...</td>\n",
       "      <td>1</td>\n",
       "      <td>suicidal</td>\n",
       "    </tr>\n",
       "    <tr>\n",
       "      <th>1893</th>\n",
       "      <td>I feel unimportant.</td>\n",
       "      <td>Not the first time I'm going through this of c...</td>\n",
       "      <td>0</td>\n",
       "      <td>depression</td>\n",
       "    </tr>\n",
       "    <tr>\n",
       "      <th>1894</th>\n",
       "      <td>I’m now genuinely thinking life for others wou...</td>\n",
       "      <td>Fight with my fiancée. Potential for her endin...</td>\n",
       "      <td>1</td>\n",
       "      <td>suicidal</td>\n",
       "    </tr>\n",
       "  </tbody>\n",
       "</table>\n",
       "<p>1895 rows × 4 columns</p>\n",
       "</div>"
      ],
      "text/plain": [
       "                                                  title  \\\n",
       "0                                             Need help   \n",
       "1                   feeling so overwhelmed and hopeless   \n",
       "2                Nothing matters anymore, getting worse   \n",
       "3                       Who’s tired of hearing bullshit   \n",
       "4                            I wish I was someone else.   \n",
       "...                                                 ...   \n",
       "1890                                     think its over   \n",
       "1891  To all of those feeling isolated and suffering...   \n",
       "1892  I just really wish I had died the first time I...   \n",
       "1893                                I feel unimportant.   \n",
       "1894  I’m now genuinely thinking life for others wou...   \n",
       "\n",
       "                                                   text  label  label_text  \n",
       "0     Hi I don't really know how to phrase this situ...      0  depression  \n",
       "1     i have been so depressed these past couple wee...      1    suicidal  \n",
       "2     Hi..I don't know where else to go. I am devast...      0  depression  \n",
       "3     The shit like “it will get better, everyone is...      1    suicidal  \n",
       "4     I wish I was prettier. I wish I didn’t feel li...      0  depression  \n",
       "...                                                 ...    ...         ...  \n",
       "1890            i just don’t wanna live anymore so yeah      0  depression  \n",
       "1891  I’ve learned that life is fucking sad sometime...      0  depression  \n",
       "1892  That's all. Nothing has gotten better and I've...      1    suicidal  \n",
       "1893  Not the first time I'm going through this of c...      0  depression  \n",
       "1894  Fight with my fiancée. Potential for her endin...      1    suicidal  \n",
       "\n",
       "[1895 rows x 4 columns]"
      ]
     },
     "execution_count": 81,
     "metadata": {},
     "output_type": "execute_result"
    }
   ],
   "source": [
    "df"
   ]
  },
  {
   "cell_type": "code",
   "execution_count": 82,
   "metadata": {},
   "outputs": [
    {
     "data": {
      "text/plain": [
       "0    Hi I don't really know how to phrase this situ...\n",
       "1    i have been so depressed these past couple wee...\n",
       "2    Hi..I don't know where else to go. I am devast...\n",
       "3    The shit like “it will get better, everyone is...\n",
       "4    I wish I was prettier. I wish I didn’t feel li...\n",
       "Name: text, dtype: object"
      ]
     },
     "execution_count": 82,
     "metadata": {},
     "output_type": "execute_result"
    }
   ],
   "source": [
    "df['text'].head()"
   ]
  },
  {
   "cell_type": "code",
   "execution_count": 83,
   "metadata": {},
   "outputs": [],
   "source": [
    "for idx, str in enumerate(df['text']):\n",
    "    # print(string)\n",
    "\n",
    "    clean_str = list([val for val in str if val.isalnum() or val == ' '])\n",
    "    clean_str = ''.join(clean_str)\n",
    "    low_clean_str = clean_str.lower()\n",
    "\n",
    "    # print(low_clean_str)\n",
    "\n",
    "    df = df.replace(df['text'][idx], low_clean_str)"
   ]
  },
  {
   "cell_type": "code",
   "execution_count": 84,
   "metadata": {},
   "outputs": [
    {
     "data": {
      "text/plain": [
       "'hi i dont really know how to phrase this situation but ill try my life is at a really good point right now im never really depressed over stuff and 99 percent of the time my mind is clear im about to graduate high school and im really excited however people in my family and friend group have tons of issues wether they sleep all day hate themselves or have no ambition to keep living on in this world theyve got problems i dont wanna sound like im gloating but usually im the person that a lot of these people end up going to because usually im able to talk people through issues and help them in the long run yeah sometimes their issues make me really sad and stuff because who doesnt feel sad when people are telling you they feel worthlessbut today one of my best friends showed me that he was cutting and it really effected me i talked to him about it and its mostly because of how painfully bored he is and he doesnt even know why hes doing it hes a pretty logical guy he will go to class and just sit there for and hour most of the time doing nothing challenging because thats the way our school works he has clinically diagnosed depression has been to a psychiatric ward and sees a therapist regularly its only been a couple hours since he showed me his arm and i didnt even see all of it ive got two main problems right now first i dont really know how to help him he said literally the only thing i can really do is just hang out with him after school and on the weekends so he doesnt just sit in bed all day ive been trying to make an effort to do that as much as i can but i need to do more he said himself that as long as he goes to highschool and considering its the law hes going to feel this way until we graduate i just need to know something i can do to help him do i tell his parents a therapist wont help he already goes to one should i talk to him more about it tomorrow i just dont knowsecond stuff like this is really effecting me i just feel that the world is being unfair to everyone i care about and i just want everyone i love to feel better as of lately ive been feeling depressed whenever my friends need to talk about issues and its really weighing down on me i just dont want to leave the people i care about down in the dirt so yeah if anyone has any advice whatsoever please help me im normally able to deal with these feelings and help my friends but right now im struggling thank you '"
      ]
     },
     "execution_count": 84,
     "metadata": {},
     "output_type": "execute_result"
    }
   ],
   "source": [
    "df['text'][0]"
   ]
  },
  {
   "cell_type": "code",
   "execution_count": 85,
   "metadata": {},
   "outputs": [
    {
     "name": "stdout",
     "output_type": "stream",
     "text": [
      "Requirement already satisfied: transformers in /sfs/gpfs/tardis/home/ckp6ac/.conda/envs/nlp/lib/python3.9/site-packages (4.47.0)\n",
      "Requirement already satisfied: sentencepiece in /sfs/gpfs/tardis/home/ckp6ac/.conda/envs/nlp/lib/python3.9/site-packages (0.2.0)\n",
      "Requirement already satisfied: torch in /sfs/gpfs/tardis/home/ckp6ac/.conda/envs/nlp/lib/python3.9/site-packages (2.5.1)\n",
      "Requirement already satisfied: filelock in /sfs/gpfs/tardis/home/ckp6ac/.conda/envs/nlp/lib/python3.9/site-packages (from transformers) (3.16.1)\n",
      "Requirement already satisfied: huggingface-hub<1.0,>=0.24.0 in /sfs/gpfs/tardis/home/ckp6ac/.conda/envs/nlp/lib/python3.9/site-packages (from transformers) (0.26.5)\n",
      "Requirement already satisfied: numpy>=1.17 in /sfs/gpfs/tardis/home/ckp6ac/.conda/envs/nlp/lib/python3.9/site-packages (from transformers) (2.0.2)\n",
      "Requirement already satisfied: packaging>=20.0 in /sfs/gpfs/tardis/home/ckp6ac/.conda/envs/nlp/lib/python3.9/site-packages (from transformers) (24.2)\n",
      "Requirement already satisfied: pyyaml>=5.1 in /sfs/gpfs/tardis/home/ckp6ac/.conda/envs/nlp/lib/python3.9/site-packages (from transformers) (6.0.2)\n",
      "Requirement already satisfied: regex!=2019.12.17 in /sfs/gpfs/tardis/home/ckp6ac/.conda/envs/nlp/lib/python3.9/site-packages (from transformers) (2024.11.6)\n",
      "Requirement already satisfied: requests in /sfs/gpfs/tardis/home/ckp6ac/.conda/envs/nlp/lib/python3.9/site-packages (from transformers) (2.32.3)\n",
      "Requirement already satisfied: tokenizers<0.22,>=0.21 in /sfs/gpfs/tardis/home/ckp6ac/.conda/envs/nlp/lib/python3.9/site-packages (from transformers) (0.21.0)\n",
      "Requirement already satisfied: safetensors>=0.4.1 in /sfs/gpfs/tardis/home/ckp6ac/.conda/envs/nlp/lib/python3.9/site-packages (from transformers) (0.4.5)\n",
      "Requirement already satisfied: tqdm>=4.27 in /sfs/gpfs/tardis/home/ckp6ac/.conda/envs/nlp/lib/python3.9/site-packages (from transformers) (4.67.1)\n",
      "Requirement already satisfied: typing-extensions>=4.8.0 in /sfs/gpfs/tardis/home/ckp6ac/.conda/envs/nlp/lib/python3.9/site-packages (from torch) (4.12.2)\n",
      "Requirement already satisfied: networkx in /sfs/gpfs/tardis/home/ckp6ac/.conda/envs/nlp/lib/python3.9/site-packages (from torch) (3.2.1)\n",
      "Requirement already satisfied: jinja2 in /sfs/gpfs/tardis/home/ckp6ac/.conda/envs/nlp/lib/python3.9/site-packages (from torch) (3.1.4)\n",
      "Requirement already satisfied: fsspec in /sfs/gpfs/tardis/home/ckp6ac/.conda/envs/nlp/lib/python3.9/site-packages (from torch) (2024.10.0)\n",
      "Requirement already satisfied: nvidia-cuda-nvrtc-cu12==12.4.127 in /sfs/gpfs/tardis/home/ckp6ac/.conda/envs/nlp/lib/python3.9/site-packages (from torch) (12.4.127)\n",
      "Requirement already satisfied: nvidia-cuda-runtime-cu12==12.4.127 in /sfs/gpfs/tardis/home/ckp6ac/.conda/envs/nlp/lib/python3.9/site-packages (from torch) (12.4.127)\n",
      "Requirement already satisfied: nvidia-cuda-cupti-cu12==12.4.127 in /sfs/gpfs/tardis/home/ckp6ac/.conda/envs/nlp/lib/python3.9/site-packages (from torch) (12.4.127)\n",
      "Requirement already satisfied: nvidia-cudnn-cu12==9.1.0.70 in /sfs/gpfs/tardis/home/ckp6ac/.conda/envs/nlp/lib/python3.9/site-packages (from torch) (9.1.0.70)\n",
      "Requirement already satisfied: nvidia-cublas-cu12==12.4.5.8 in /sfs/gpfs/tardis/home/ckp6ac/.conda/envs/nlp/lib/python3.9/site-packages (from torch) (12.4.5.8)\n",
      "Requirement already satisfied: nvidia-cufft-cu12==11.2.1.3 in /sfs/gpfs/tardis/home/ckp6ac/.conda/envs/nlp/lib/python3.9/site-packages (from torch) (11.2.1.3)\n",
      "Requirement already satisfied: nvidia-curand-cu12==10.3.5.147 in /sfs/gpfs/tardis/home/ckp6ac/.conda/envs/nlp/lib/python3.9/site-packages (from torch) (10.3.5.147)\n",
      "Requirement already satisfied: nvidia-cusolver-cu12==11.6.1.9 in /sfs/gpfs/tardis/home/ckp6ac/.conda/envs/nlp/lib/python3.9/site-packages (from torch) (11.6.1.9)\n",
      "Requirement already satisfied: nvidia-cusparse-cu12==12.3.1.170 in /sfs/gpfs/tardis/home/ckp6ac/.conda/envs/nlp/lib/python3.9/site-packages (from torch) (12.3.1.170)\n",
      "Requirement already satisfied: nvidia-nccl-cu12==2.21.5 in /sfs/gpfs/tardis/home/ckp6ac/.conda/envs/nlp/lib/python3.9/site-packages (from torch) (2.21.5)\n",
      "Requirement already satisfied: nvidia-nvtx-cu12==12.4.127 in /sfs/gpfs/tardis/home/ckp6ac/.conda/envs/nlp/lib/python3.9/site-packages (from torch) (12.4.127)\n",
      "Requirement already satisfied: nvidia-nvjitlink-cu12==12.4.127 in /sfs/gpfs/tardis/home/ckp6ac/.conda/envs/nlp/lib/python3.9/site-packages (from torch) (12.4.127)\n",
      "Requirement already satisfied: triton==3.1.0 in /sfs/gpfs/tardis/home/ckp6ac/.conda/envs/nlp/lib/python3.9/site-packages (from torch) (3.1.0)\n",
      "Requirement already satisfied: sympy==1.13.1 in /sfs/gpfs/tardis/home/ckp6ac/.conda/envs/nlp/lib/python3.9/site-packages (from torch) (1.13.1)\n",
      "Requirement already satisfied: mpmath<1.4,>=1.1.0 in /sfs/gpfs/tardis/home/ckp6ac/.conda/envs/nlp/lib/python3.9/site-packages (from sympy==1.13.1->torch) (1.3.0)\n",
      "Requirement already satisfied: MarkupSafe>=2.0 in /sfs/gpfs/tardis/home/ckp6ac/.conda/envs/nlp/lib/python3.9/site-packages (from jinja2->torch) (3.0.2)\n",
      "Requirement already satisfied: charset-normalizer<4,>=2 in /sfs/gpfs/tardis/home/ckp6ac/.conda/envs/nlp/lib/python3.9/site-packages (from requests->transformers) (3.4.0)\n",
      "Requirement already satisfied: idna<4,>=2.5 in /sfs/gpfs/tardis/home/ckp6ac/.conda/envs/nlp/lib/python3.9/site-packages (from requests->transformers) (3.10)\n",
      "Requirement already satisfied: urllib3<3,>=1.21.1 in /sfs/gpfs/tardis/home/ckp6ac/.conda/envs/nlp/lib/python3.9/site-packages (from requests->transformers) (2.2.3)\n",
      "Requirement already satisfied: certifi>=2017.4.17 in /sfs/gpfs/tardis/home/ckp6ac/.conda/envs/nlp/lib/python3.9/site-packages (from requests->transformers) (2024.8.30)\n"
     ]
    }
   ],
   "source": [
    "!pip install transformers sentencepiece torch"
   ]
  },
  {
   "cell_type": "code",
   "execution_count": 86,
   "metadata": {},
   "outputs": [
    {
     "name": "stdout",
     "output_type": "stream",
     "text": [
      "Requirement already satisfied: transformers in /sfs/gpfs/tardis/home/ckp6ac/.conda/envs/nlp/lib/python3.9/site-packages (4.47.0)\n",
      "Requirement already satisfied: filelock in /sfs/gpfs/tardis/home/ckp6ac/.conda/envs/nlp/lib/python3.9/site-packages (from transformers) (3.16.1)\n",
      "Requirement already satisfied: huggingface-hub<1.0,>=0.24.0 in /sfs/gpfs/tardis/home/ckp6ac/.conda/envs/nlp/lib/python3.9/site-packages (from transformers) (0.26.5)\n",
      "Requirement already satisfied: numpy>=1.17 in /sfs/gpfs/tardis/home/ckp6ac/.conda/envs/nlp/lib/python3.9/site-packages (from transformers) (2.0.2)\n",
      "Requirement already satisfied: packaging>=20.0 in /sfs/gpfs/tardis/home/ckp6ac/.conda/envs/nlp/lib/python3.9/site-packages (from transformers) (24.2)\n",
      "Requirement already satisfied: pyyaml>=5.1 in /sfs/gpfs/tardis/home/ckp6ac/.conda/envs/nlp/lib/python3.9/site-packages (from transformers) (6.0.2)\n",
      "Requirement already satisfied: regex!=2019.12.17 in /sfs/gpfs/tardis/home/ckp6ac/.conda/envs/nlp/lib/python3.9/site-packages (from transformers) (2024.11.6)\n",
      "Requirement already satisfied: requests in /sfs/gpfs/tardis/home/ckp6ac/.conda/envs/nlp/lib/python3.9/site-packages (from transformers) (2.32.3)\n",
      "Requirement already satisfied: tokenizers<0.22,>=0.21 in /sfs/gpfs/tardis/home/ckp6ac/.conda/envs/nlp/lib/python3.9/site-packages (from transformers) (0.21.0)\n",
      "Requirement already satisfied: safetensors>=0.4.1 in /sfs/gpfs/tardis/home/ckp6ac/.conda/envs/nlp/lib/python3.9/site-packages (from transformers) (0.4.5)\n",
      "Requirement already satisfied: tqdm>=4.27 in /sfs/gpfs/tardis/home/ckp6ac/.conda/envs/nlp/lib/python3.9/site-packages (from transformers) (4.67.1)\n",
      "Requirement already satisfied: fsspec>=2023.5.0 in /sfs/gpfs/tardis/home/ckp6ac/.conda/envs/nlp/lib/python3.9/site-packages (from huggingface-hub<1.0,>=0.24.0->transformers) (2024.10.0)\n",
      "Requirement already satisfied: typing-extensions>=3.7.4.3 in /sfs/gpfs/tardis/home/ckp6ac/.conda/envs/nlp/lib/python3.9/site-packages (from huggingface-hub<1.0,>=0.24.0->transformers) (4.12.2)\n",
      "Requirement already satisfied: charset-normalizer<4,>=2 in /sfs/gpfs/tardis/home/ckp6ac/.conda/envs/nlp/lib/python3.9/site-packages (from requests->transformers) (3.4.0)\n",
      "Requirement already satisfied: idna<4,>=2.5 in /sfs/gpfs/tardis/home/ckp6ac/.conda/envs/nlp/lib/python3.9/site-packages (from requests->transformers) (3.10)\n",
      "Requirement already satisfied: urllib3<3,>=1.21.1 in /sfs/gpfs/tardis/home/ckp6ac/.conda/envs/nlp/lib/python3.9/site-packages (from requests->transformers) (2.2.3)\n",
      "Requirement already satisfied: certifi>=2017.4.17 in /sfs/gpfs/tardis/home/ckp6ac/.conda/envs/nlp/lib/python3.9/site-packages (from requests->transformers) (2024.8.30)\n"
     ]
    }
   ],
   "source": [
    "!pip install transformers\n",
    "\n",
    "from transformers import AutoTokenizer, XLMRobertaModel\n",
    "\n",
    "tokenizer = AutoTokenizer.from_pretrained('xlm-roberta-base')\n",
    "model = XLMRobertaModel.from_pretrained('xlm-roberta-base', num_labels=2, hidden_dropout_prob=0.3,    # Add dropout\n",
    "    attention_probs_dropout_prob=0.3 ) # Add dropout)"
   ]
  },
  {
   "cell_type": "code",
   "execution_count": 87,
   "metadata": {},
   "outputs": [
    {
     "name": "stdout",
     "output_type": "stream",
     "text": [
      "Requirement already satisfied: tqdm in /sfs/gpfs/tardis/home/ckp6ac/.conda/envs/nlp/lib/python3.9/site-packages (4.67.1)\n"
     ]
    }
   ],
   "source": [
    "!pip install  tqdm"
   ]
  },
  {
   "cell_type": "code",
   "execution_count": 88,
   "metadata": {},
   "outputs": [
    {
     "name": "stdout",
     "output_type": "stream",
     "text": [
      "Requirement already satisfied: scikit-learn in /sfs/gpfs/tardis/home/ckp6ac/.conda/envs/nlp/lib/python3.9/site-packages (1.6.0)\n",
      "Requirement already satisfied: numpy>=1.19.5 in /sfs/gpfs/tardis/home/ckp6ac/.conda/envs/nlp/lib/python3.9/site-packages (from scikit-learn) (2.0.2)\n",
      "Requirement already satisfied: scipy>=1.6.0 in /sfs/gpfs/tardis/home/ckp6ac/.conda/envs/nlp/lib/python3.9/site-packages (from scikit-learn) (1.13.1)\n",
      "Requirement already satisfied: joblib>=1.2.0 in /sfs/gpfs/tardis/home/ckp6ac/.conda/envs/nlp/lib/python3.9/site-packages (from scikit-learn) (1.4.2)\n",
      "Requirement already satisfied: threadpoolctl>=3.1.0 in /sfs/gpfs/tardis/home/ckp6ac/.conda/envs/nlp/lib/python3.9/site-packages (from scikit-learn) (3.5.0)\n",
      "Note: you may need to restart the kernel to use updated packages.\n"
     ]
    }
   ],
   "source": [
    "pip install scikit-learn"
   ]
  },
  {
   "cell_type": "code",
   "execution_count": 89,
   "metadata": {},
   "outputs": [],
   "source": [
    "import torch\n",
    "from torch import nn\n",
    "from torch.utils.data import Dataset, DataLoader\n",
    "from transformers import XLMRobertaForSequenceClassification, AdamW\n",
    "from sklearn.model_selection import train_test_split\n",
    "from tqdm.auto import tqdm\n"
   ]
  },
  {
   "cell_type": "code",
   "execution_count": 90,
   "metadata": {},
   "outputs": [
    {
     "name": "stdout",
     "output_type": "stream",
     "text": [
      "MPS available: False\n"
     ]
    }
   ],
   "source": [
    "print(\"MPS available:\", torch.backends.mps.is_available())"
   ]
  },
  {
   "cell_type": "code",
   "execution_count": 91,
   "metadata": {},
   "outputs": [],
   "source": [
    "def get_device():\n",
    "    if torch.backends.mps.is_available():\n",
    "        device = torch.device(\"mps\")\n",
    "    elif torch.cuda.is_available():\n",
    "        device = torch.device(\"cuda\")\n",
    "        print(\"device is cuda\")\n",
    "    else:\n",
    "        device = torch.device(\"cpu\")\n",
    "    return device\n"
   ]
  },
  {
   "cell_type": "code",
   "execution_count": 92,
   "metadata": {},
   "outputs": [
    {
     "name": "stdout",
     "output_type": "stream",
     "text": [
      "device is cuda\n",
      "Current device is: cuda\n",
      "Is CUDA?: True\n"
     ]
    }
   ],
   "source": [
    "device = get_device()\n",
    "print(f\"Current device is: {device}\")  # Will print \"cuda\" if using CUDA\n",
    "print(f\"Is CUDA?: {device.type == 'cuda'}\")  # Will print True if using CUDA"
   ]
  },
  {
   "cell_type": "code",
   "execution_count": 93,
   "metadata": {},
   "outputs": [],
   "source": [
    "class TextClassificationDataset(Dataset):\n",
    "    def __init__(self, texts, labels, tokenizer, max_length=512):\n",
    "        self.texts = texts\n",
    "        self.labels = labels\n",
    "        self.tokenizer = tokenizer\n",
    "        self.max_length = max_length\n",
    "    \n",
    "    def __len__(self):\n",
    "        return len(self.texts)\n",
    "    \n",
    "    def __getitem__(self, idx):\n",
    "        # Remove the str() conversion since texts are already strings\n",
    "        text = self.texts[idx]\n",
    "        label = self.labels[idx]\n",
    "        \n",
    "        encoding = self.tokenizer(\n",
    "            text,\n",
    "            add_special_tokens=True,\n",
    "            max_length=self.max_length,\n",
    "            truncation=True,\n",
    "            padding='max_length',\n",
    "            return_tensors='pt'\n",
    "        )\n",
    "        \n",
    "        return {\n",
    "            'input_ids': encoding['input_ids'].flatten(),\n",
    "            'attention_mask': encoding['attention_mask'].flatten(),\n",
    "            'label': torch.tensor(label, dtype=torch.long)\n",
    "        }"
   ]
  },
  {
   "cell_type": "code",
   "execution_count": 94,
   "metadata": {},
   "outputs": [],
   "source": [
    "# Training function\n",
    "def train_model(model, train_loader, val_loader, device, num_epochs=30):\n",
    "    optimizer = AdamW(model.parameters(), lr=2e-5, weight_decay=0.1)\n",
    "    \n",
    "    best_val_acc = 0\n",
    "    \n",
    "    for epoch in range(num_epochs):\n",
    "        model.train()\n",
    "        total_loss = 0\n",
    "        correct = 0\n",
    "        total = 0\n",
    "        \n",
    "        progress_bar = tqdm(train_loader, desc=f'Epoch {epoch + 1}/{num_epochs}')\n",
    "        \n",
    "        for batch in progress_bar:\n",
    "            input_ids = batch['input_ids'].to(device)\n",
    "            attention_mask = batch['attention_mask'].to(device)\n",
    "            labels = batch['label'].to(device)\n",
    "            \n",
    "            optimizer.zero_grad()\n",
    "            \n",
    "            outputs = model(\n",
    "                input_ids=input_ids,\n",
    "                attention_mask=attention_mask,\n",
    "                labels=labels\n",
    "            )\n",
    "            \n",
    "            loss = outputs.loss\n",
    "            total_loss += loss.item()\n",
    "            \n",
    "            loss.backward()\n",
    "            optimizer.step()\n",
    "            \n",
    "            # Calculate accuracy\n",
    "            predictions = torch.argmax(outputs.logits, dim=1)\n",
    "            correct += (predictions == labels).sum().item()\n",
    "            total += labels.size(0)\n",
    "            \n",
    "            progress_bar.set_postfix({\n",
    "                'loss': f'{loss.item():.4f}',\n",
    "                'acc': f'{(correct/total)*100:.2f}%'\n",
    "            })\n",
    "        \n",
    "        # Validation\n",
    "        model.eval()\n",
    "        val_correct = 0\n",
    "        val_total = 0\n",
    "        \n",
    "        print(\"\\nRunning validation...\")\n",
    "        with torch.no_grad():\n",
    "            for batch in tqdm(val_loader):\n",
    "                input_ids = batch['input_ids'].to(device)\n",
    "                attention_mask = batch['attention_mask'].to(device)\n",
    "                labels = batch['label'].to(device)\n",
    "                \n",
    "                outputs = model(\n",
    "                    input_ids=input_ids,\n",
    "                    attention_mask=attention_mask\n",
    "                )\n",
    "                \n",
    "                predictions = torch.argmax(outputs.logits, dim=1)\n",
    "                val_correct += (predictions == labels).sum().item()\n",
    "                val_total += labels.size(0)\n",
    "        \n",
    "        val_acc = (val_correct/val_total)*100\n",
    "        print(f'Validation Accuracy: {val_acc:.2f}%')\n",
    "        \n",
    "        if val_acc > best_val_acc:\n",
    "            best_val_acc = val_acc\n",
    "            torch.save(model.state_dict(), 'best_model.pt')\n",
    "            print(f'Saved new best model with validation accuracy: {val_acc:.2f}%')\n",
    "\n"
   ]
  },
  {
   "cell_type": "code",
   "execution_count": 95,
   "metadata": {},
   "outputs": [],
   "source": [
    "import os\n",
    "os.environ[\"TOKENIZERS_PARALLELISM\"] = \"false\""
   ]
  },
  {
   "cell_type": "code",
   "execution_count": 96,
   "metadata": {},
   "outputs": [],
   "source": [
    "def main():\n",
    "    # Set device\n",
    "    device = get_device()\n",
    "    print(f\"Using device: {device}\")\n",
    "    \n",
    "    # Initialize model with proper configuration\n",
    "    model = XLMRobertaForSequenceClassification.from_pretrained(\n",
    "        'xlm-roberta-base',\n",
    "        num_labels=2,\n",
    "        problem_type=\"single_label_classification\"\n",
    "    ).to(device)\n",
    "    \n",
    "    # Split data - making sure to convert to list\n",
    "    train_texts, val_texts, train_labels, val_labels = train_test_split(\n",
    "        list(df['text']),\n",
    "        list(df['label']),\n",
    "        test_size=0.1,\n",
    "        random_state=42\n",
    "    )\n",
    "    \n",
    "    # Create datasets\n",
    "    train_dataset = TextClassificationDataset(\n",
    "        train_texts,\n",
    "        train_labels,\n",
    "        tokenizer\n",
    "    )\n",
    "    \n",
    "    val_dataset = TextClassificationDataset(\n",
    "        val_texts,\n",
    "        val_labels,\n",
    "        tokenizer\n",
    "    )\n",
    "    \n",
    "    # Create dataloaders with smaller batch size for CPU\n",
    "    batch_size = 4 if device == 'cpu' else 32\n",
    "    \n",
    "    train_loader = DataLoader(\n",
    "        train_dataset,\n",
    "        batch_size=batch_size,\n",
    "        shuffle=True,\n",
    "        num_workers=4  # Set to 0 for CPU\n",
    "    )\n",
    "    \n",
    "    val_loader = DataLoader(\n",
    "        val_dataset,\n",
    "        batch_size=batch_size,\n",
    "        shuffle=False,\n",
    "        num_workers=4  # Set to 0 for CPU\n",
    "    )\n",
    "    \n",
    "    # Print dataset sizes\n",
    "    print(f\"Training samples: {len(train_dataset)}\")\n",
    "    print(f\"Validation samples: {len(val_dataset)}\")\n",
    "    \n",
    "    # Train the model\n",
    "    try:\n",
    "        train_model(model, train_loader, val_loader, device)\n",
    "    except KeyboardInterrupt:\n",
    "        print(\"Training interrupted by user\")\n",
    "    except Exception as e:\n",
    "        print(f\"Error during training: {str(e)}\")\n",
    "        raise e\n"
   ]
  },
  {
   "cell_type": "code",
   "execution_count": 97,
   "metadata": {},
   "outputs": [
    {
     "name": "stdout",
     "output_type": "stream",
     "text": [
      "device is cuda\n",
      "Using device: cuda\n"
     ]
    },
    {
     "name": "stderr",
     "output_type": "stream",
     "text": [
      "Some weights of XLMRobertaForSequenceClassification were not initialized from the model checkpoint at xlm-roberta-base and are newly initialized: ['classifier.dense.bias', 'classifier.dense.weight', 'classifier.out_proj.bias', 'classifier.out_proj.weight']\n",
      "You should probably TRAIN this model on a down-stream task to be able to use it for predictions and inference.\n",
      "/home/ckp6ac/.conda/envs/nlp/lib/python3.9/site-packages/transformers/optimization.py:591: FutureWarning: This implementation of AdamW is deprecated and will be removed in a future version. Use the PyTorch implementation torch.optim.AdamW instead, or set `no_deprecation_warning=True` to disable this warning\n",
      "  warnings.warn(\n"
     ]
    },
    {
     "name": "stdout",
     "output_type": "stream",
     "text": [
      "Training samples: 1705\n",
      "Validation samples: 190\n"
     ]
    },
    {
     "name": "stderr",
     "output_type": "stream",
     "text": [
      "Epoch 1/30: 100%|██████████| 54/54 [00:33<00:00,  1.60it/s, loss=0.6844, acc=52.32%]\n"
     ]
    },
    {
     "name": "stdout",
     "output_type": "stream",
     "text": [
      "\n",
      "Running validation...\n"
     ]
    },
    {
     "name": "stderr",
     "output_type": "stream",
     "text": [
      "100%|██████████| 6/6 [00:01<00:00,  3.59it/s]\n"
     ]
    },
    {
     "name": "stdout",
     "output_type": "stream",
     "text": [
      "Validation Accuracy: 48.95%\n",
      "Saved new best model with validation accuracy: 48.95%\n"
     ]
    },
    {
     "name": "stderr",
     "output_type": "stream",
     "text": [
      "Epoch 2/30: 100%|██████████| 54/54 [00:34<00:00,  1.58it/s, loss=0.6664, acc=54.43%]\n"
     ]
    },
    {
     "name": "stdout",
     "output_type": "stream",
     "text": [
      "\n",
      "Running validation...\n"
     ]
    },
    {
     "name": "stderr",
     "output_type": "stream",
     "text": [
      "100%|██████████| 6/6 [00:01<00:00,  3.58it/s]\n"
     ]
    },
    {
     "name": "stdout",
     "output_type": "stream",
     "text": [
      "Validation Accuracy: 64.74%\n",
      "Saved new best model with validation accuracy: 64.74%\n"
     ]
    },
    {
     "name": "stderr",
     "output_type": "stream",
     "text": [
      "Epoch 3/30: 100%|██████████| 54/54 [00:34<00:00,  1.57it/s, loss=0.7456, acc=58.24%]\n"
     ]
    },
    {
     "name": "stdout",
     "output_type": "stream",
     "text": [
      "\n",
      "Running validation...\n"
     ]
    },
    {
     "name": "stderr",
     "output_type": "stream",
     "text": [
      "100%|██████████| 6/6 [00:01<00:00,  3.52it/s]\n"
     ]
    },
    {
     "name": "stdout",
     "output_type": "stream",
     "text": [
      "Validation Accuracy: 58.42%\n"
     ]
    },
    {
     "name": "stderr",
     "output_type": "stream",
     "text": [
      "Epoch 4/30: 100%|██████████| 54/54 [00:34<00:00,  1.55it/s, loss=0.4299, acc=62.82%]\n"
     ]
    },
    {
     "name": "stdout",
     "output_type": "stream",
     "text": [
      "\n",
      "Running validation...\n"
     ]
    },
    {
     "name": "stderr",
     "output_type": "stream",
     "text": [
      "100%|██████████| 6/6 [00:01<00:00,  3.50it/s]\n"
     ]
    },
    {
     "name": "stdout",
     "output_type": "stream",
     "text": [
      "Validation Accuracy: 73.68%\n",
      "Saved new best model with validation accuracy: 73.68%\n"
     ]
    },
    {
     "name": "stderr",
     "output_type": "stream",
     "text": [
      "Epoch 5/30: 100%|██████████| 54/54 [00:34<00:00,  1.56it/s, loss=0.4833, acc=70.85%]\n"
     ]
    },
    {
     "name": "stdout",
     "output_type": "stream",
     "text": [
      "\n",
      "Running validation...\n"
     ]
    },
    {
     "name": "stderr",
     "output_type": "stream",
     "text": [
      "100%|██████████| 6/6 [00:01<00:00,  3.56it/s]\n"
     ]
    },
    {
     "name": "stdout",
     "output_type": "stream",
     "text": [
      "Validation Accuracy: 66.32%\n"
     ]
    },
    {
     "name": "stderr",
     "output_type": "stream",
     "text": [
      "Epoch 6/30: 100%|██████████| 54/54 [00:34<00:00,  1.55it/s, loss=0.4379, acc=77.77%]\n"
     ]
    },
    {
     "name": "stdout",
     "output_type": "stream",
     "text": [
      "\n",
      "Running validation...\n"
     ]
    },
    {
     "name": "stderr",
     "output_type": "stream",
     "text": [
      "100%|██████████| 6/6 [00:01<00:00,  3.47it/s]\n"
     ]
    },
    {
     "name": "stdout",
     "output_type": "stream",
     "text": [
      "Validation Accuracy: 64.21%\n"
     ]
    },
    {
     "name": "stderr",
     "output_type": "stream",
     "text": [
      "Epoch 7/30: 100%|██████████| 54/54 [00:34<00:00,  1.55it/s, loss=0.3124, acc=82.23%]\n"
     ]
    },
    {
     "name": "stdout",
     "output_type": "stream",
     "text": [
      "\n",
      "Running validation...\n"
     ]
    },
    {
     "name": "stderr",
     "output_type": "stream",
     "text": [
      "100%|██████████| 6/6 [00:01<00:00,  3.52it/s]\n"
     ]
    },
    {
     "name": "stdout",
     "output_type": "stream",
     "text": [
      "Validation Accuracy: 69.47%\n"
     ]
    },
    {
     "name": "stderr",
     "output_type": "stream",
     "text": [
      "Epoch 8/30: 100%|██████████| 54/54 [00:34<00:00,  1.55it/s, loss=0.5140, acc=88.39%]\n"
     ]
    },
    {
     "name": "stdout",
     "output_type": "stream",
     "text": [
      "\n",
      "Running validation...\n"
     ]
    },
    {
     "name": "stderr",
     "output_type": "stream",
     "text": [
      "100%|██████████| 6/6 [00:01<00:00,  3.53it/s]\n"
     ]
    },
    {
     "name": "stdout",
     "output_type": "stream",
     "text": [
      "Validation Accuracy: 73.16%\n"
     ]
    },
    {
     "name": "stderr",
     "output_type": "stream",
     "text": [
      "Epoch 9/30: 100%|██████████| 54/54 [00:34<00:00,  1.55it/s, loss=0.0530, acc=92.84%]\n"
     ]
    },
    {
     "name": "stdout",
     "output_type": "stream",
     "text": [
      "\n",
      "Running validation...\n"
     ]
    },
    {
     "name": "stderr",
     "output_type": "stream",
     "text": [
      "100%|██████████| 6/6 [00:01<00:00,  3.43it/s]\n"
     ]
    },
    {
     "name": "stdout",
     "output_type": "stream",
     "text": [
      "Validation Accuracy: 68.42%\n"
     ]
    },
    {
     "name": "stderr",
     "output_type": "stream",
     "text": [
      "Epoch 10/30: 100%|██████████| 54/54 [00:34<00:00,  1.55it/s, loss=0.0495, acc=95.01%]\n"
     ]
    },
    {
     "name": "stdout",
     "output_type": "stream",
     "text": [
      "\n",
      "Running validation...\n"
     ]
    },
    {
     "name": "stderr",
     "output_type": "stream",
     "text": [
      "100%|██████████| 6/6 [00:01<00:00,  3.38it/s]\n"
     ]
    },
    {
     "name": "stdout",
     "output_type": "stream",
     "text": [
      "Validation Accuracy: 68.95%\n"
     ]
    },
    {
     "name": "stderr",
     "output_type": "stream",
     "text": [
      "Epoch 11/30: 100%|██████████| 54/54 [00:34<00:00,  1.55it/s, loss=0.0096, acc=96.83%]\n"
     ]
    },
    {
     "name": "stdout",
     "output_type": "stream",
     "text": [
      "\n",
      "Running validation...\n"
     ]
    },
    {
     "name": "stderr",
     "output_type": "stream",
     "text": [
      "100%|██████████| 6/6 [00:01<00:00,  3.48it/s]\n"
     ]
    },
    {
     "name": "stdout",
     "output_type": "stream",
     "text": [
      "Validation Accuracy: 71.05%\n"
     ]
    },
    {
     "name": "stderr",
     "output_type": "stream",
     "text": [
      "Epoch 12/30: 100%|██████████| 54/54 [00:34<00:00,  1.55it/s, loss=0.7805, acc=97.89%]\n"
     ]
    },
    {
     "name": "stdout",
     "output_type": "stream",
     "text": [
      "\n",
      "Running validation...\n"
     ]
    },
    {
     "name": "stderr",
     "output_type": "stream",
     "text": [
      "100%|██████████| 6/6 [00:01<00:00,  3.52it/s]\n"
     ]
    },
    {
     "name": "stdout",
     "output_type": "stream",
     "text": [
      "Validation Accuracy: 67.89%\n"
     ]
    },
    {
     "name": "stderr",
     "output_type": "stream",
     "text": [
      "Epoch 13/30: 100%|██████████| 54/54 [00:34<00:00,  1.55it/s, loss=0.0078, acc=97.77%]\n"
     ]
    },
    {
     "name": "stdout",
     "output_type": "stream",
     "text": [
      "\n",
      "Running validation...\n"
     ]
    },
    {
     "name": "stderr",
     "output_type": "stream",
     "text": [
      "100%|██████████| 6/6 [00:01<00:00,  3.55it/s]\n"
     ]
    },
    {
     "name": "stdout",
     "output_type": "stream",
     "text": [
      "Validation Accuracy: 72.11%\n"
     ]
    },
    {
     "name": "stderr",
     "output_type": "stream",
     "text": [
      "Epoch 14/30: 100%|██████████| 54/54 [00:34<00:00,  1.55it/s, loss=0.3828, acc=97.60%]\n"
     ]
    },
    {
     "name": "stdout",
     "output_type": "stream",
     "text": [
      "\n",
      "Running validation...\n"
     ]
    },
    {
     "name": "stderr",
     "output_type": "stream",
     "text": [
      "100%|██████████| 6/6 [00:01<00:00,  3.53it/s]\n"
     ]
    },
    {
     "name": "stdout",
     "output_type": "stream",
     "text": [
      "Validation Accuracy: 71.58%\n"
     ]
    },
    {
     "name": "stderr",
     "output_type": "stream",
     "text": [
      "Epoch 15/30: 100%|██████████| 54/54 [00:34<00:00,  1.55it/s, loss=0.0109, acc=96.89%]\n"
     ]
    },
    {
     "name": "stdout",
     "output_type": "stream",
     "text": [
      "\n",
      "Running validation...\n"
     ]
    },
    {
     "name": "stderr",
     "output_type": "stream",
     "text": [
      "100%|██████████| 6/6 [00:01<00:00,  3.46it/s]\n"
     ]
    },
    {
     "name": "stdout",
     "output_type": "stream",
     "text": [
      "Validation Accuracy: 71.05%\n"
     ]
    },
    {
     "name": "stderr",
     "output_type": "stream",
     "text": [
      "Epoch 16/30: 100%|██████████| 54/54 [00:34<00:00,  1.55it/s, loss=0.0298, acc=98.42%]\n"
     ]
    },
    {
     "name": "stdout",
     "output_type": "stream",
     "text": [
      "\n",
      "Running validation...\n"
     ]
    },
    {
     "name": "stderr",
     "output_type": "stream",
     "text": [
      "100%|██████████| 6/6 [00:01<00:00,  3.55it/s]\n"
     ]
    },
    {
     "name": "stdout",
     "output_type": "stream",
     "text": [
      "Validation Accuracy: 69.47%\n"
     ]
    },
    {
     "name": "stderr",
     "output_type": "stream",
     "text": [
      "Epoch 17/30: 100%|██████████| 54/54 [00:34<00:00,  1.55it/s, loss=0.0110, acc=99.06%]\n"
     ]
    },
    {
     "name": "stdout",
     "output_type": "stream",
     "text": [
      "\n",
      "Running validation...\n"
     ]
    },
    {
     "name": "stderr",
     "output_type": "stream",
     "text": [
      "100%|██████████| 6/6 [00:01<00:00,  3.57it/s]\n"
     ]
    },
    {
     "name": "stdout",
     "output_type": "stream",
     "text": [
      "Validation Accuracy: 74.21%\n",
      "Saved new best model with validation accuracy: 74.21%\n"
     ]
    },
    {
     "name": "stderr",
     "output_type": "stream",
     "text": [
      "Epoch 18/30: 100%|██████████| 54/54 [00:34<00:00,  1.56it/s, loss=0.0221, acc=97.89%]\n"
     ]
    },
    {
     "name": "stdout",
     "output_type": "stream",
     "text": [
      "\n",
      "Running validation...\n"
     ]
    },
    {
     "name": "stderr",
     "output_type": "stream",
     "text": [
      "100%|██████████| 6/6 [00:01<00:00,  3.58it/s]\n"
     ]
    },
    {
     "name": "stdout",
     "output_type": "stream",
     "text": [
      "Validation Accuracy: 73.68%\n"
     ]
    },
    {
     "name": "stderr",
     "output_type": "stream",
     "text": [
      "Epoch 19/30: 100%|██████████| 54/54 [00:34<00:00,  1.55it/s, loss=0.0046, acc=99.06%]\n"
     ]
    },
    {
     "name": "stdout",
     "output_type": "stream",
     "text": [
      "\n",
      "Running validation...\n"
     ]
    },
    {
     "name": "stderr",
     "output_type": "stream",
     "text": [
      "100%|██████████| 6/6 [00:01<00:00,  3.44it/s]\n"
     ]
    },
    {
     "name": "stdout",
     "output_type": "stream",
     "text": [
      "Validation Accuracy: 71.05%\n"
     ]
    },
    {
     "name": "stderr",
     "output_type": "stream",
     "text": [
      "Epoch 20/30:  70%|███████   | 38/54 [00:25<00:10,  1.50it/s, loss=0.0036, acc=99.42%]"
     ]
    },
    {
     "name": "stdout",
     "output_type": "stream",
     "text": [
      "Training interrupted by user\n"
     ]
    },
    {
     "name": "stderr",
     "output_type": "stream",
     "text": [
      "\n"
     ]
    }
   ],
   "source": [
    "# Run the main function\n",
    "if __name__ == \"__main__\":\n",
    "    main()"
   ]
  },
  {
   "cell_type": "code",
   "execution_count": null,
   "metadata": {},
   "outputs": [],
   "source": []
  }
 ],
 "metadata": {
  "kernelspec": {
   "display_name": "nlp",
   "language": "python",
   "name": "python3"
  },
  "language_info": {
   "codemirror_mode": {
    "name": "ipython",
    "version": 3
   },
   "file_extension": ".py",
   "mimetype": "text/x-python",
   "name": "python",
   "nbconvert_exporter": "python",
   "pygments_lexer": "ipython3",
   "version": "3.9.21"
  }
 },
 "nbformat": 4,
 "nbformat_minor": 4
}
