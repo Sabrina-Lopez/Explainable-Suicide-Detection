{
 "cells": [
  {
   "cell_type": "code",
   "execution_count": 1,
   "metadata": {},
   "outputs": [
    {
     "name": "stdout",
     "output_type": "stream",
     "text": [
      "Requirement already satisfied: pandas in c:\\users\\sabrinalopez\\anaconda3\\envs\\nlpproject\\lib\\site-packages (2.2.3)\n",
      "Requirement already satisfied: pyarrow in c:\\users\\sabrinalopez\\anaconda3\\envs\\nlpproject\\lib\\site-packages (18.0.0)\n",
      "Requirement already satisfied: fastparquet in c:\\users\\sabrinalopez\\anaconda3\\envs\\nlpproject\\lib\\site-packages (2024.11.0)\n",
      "Requirement already satisfied: numpy>=1.22.4 in c:\\users\\sabrinalopez\\anaconda3\\envs\\nlpproject\\lib\\site-packages (from pandas) (2.0.2)\n",
      "Requirement already satisfied: python-dateutil>=2.8.2 in c:\\users\\sabrinalopez\\anaconda3\\envs\\nlpproject\\lib\\site-packages (from pandas) (2.9.0)\n",
      "Requirement already satisfied: pytz>=2020.1 in c:\\users\\sabrinalopez\\anaconda3\\envs\\nlpproject\\lib\\site-packages (from pandas) (2024.2)\n",
      "Requirement already satisfied: tzdata>=2022.7 in c:\\users\\sabrinalopez\\anaconda3\\envs\\nlpproject\\lib\\site-packages (from pandas) (2024.2)\n",
      "Requirement already satisfied: cramjam>=2.3 in c:\\users\\sabrinalopez\\anaconda3\\envs\\nlpproject\\lib\\site-packages (from fastparquet) (2.9.0)\n",
      "Requirement already satisfied: fsspec in c:\\users\\sabrinalopez\\anaconda3\\envs\\nlpproject\\lib\\site-packages (from fastparquet) (2024.10.0)\n",
      "Requirement already satisfied: packaging in c:\\users\\sabrinalopez\\anaconda3\\envs\\nlpproject\\lib\\site-packages (from fastparquet) (24.2)\n",
      "Requirement already satisfied: six>=1.5 in c:\\users\\sabrinalopez\\anaconda3\\envs\\nlpproject\\lib\\site-packages (from python-dateutil>=2.8.2->pandas) (1.16.0)\n"
     ]
    }
   ],
   "source": [
    "!pip install pandas pyarrow fastparquet"
   ]
  },
  {
   "cell_type": "code",
   "execution_count": 2,
   "metadata": {},
   "outputs": [
    {
     "name": "stderr",
     "output_type": "stream",
     "text": [
      "c:\\Users\\Sabrina Lopez\\anaconda3\\envs\\nlpproject\\lib\\site-packages\\tqdm\\auto.py:21: TqdmWarning: IProgress not found. Please update jupyter and ipywidgets. See https://ipywidgets.readthedocs.io/en/stable/user_install.html\n",
      "  from .autonotebook import tqdm as notebook_tqdm\n"
     ]
    }
   ],
   "source": [
    "import pandas as pd\n",
    "\n",
    "df = pd.read_parquet(\"hf://datasets/KAIST-IC-LAB721/SDCNL/data/train-00000-of-00001.parquet\")"
   ]
  },
  {
   "cell_type": "code",
   "execution_count": 3,
   "metadata": {},
   "outputs": [
    {
     "name": "stdout",
     "output_type": "stream",
     "text": [
      "Requirement already satisfied: huggingface_hub in c:\\users\\sabrinalopez\\anaconda3\\envs\\nlpproject\\lib\\site-packages (0.26.2)\n",
      "Requirement already satisfied: filelock in c:\\users\\sabrinalopez\\anaconda3\\envs\\nlpproject\\lib\\site-packages (from huggingface_hub) (3.16.1)\n",
      "Requirement already satisfied: fsspec>=2023.5.0 in c:\\users\\sabrinalopez\\anaconda3\\envs\\nlpproject\\lib\\site-packages (from huggingface_hub) (2024.10.0)\n",
      "Requirement already satisfied: packaging>=20.9 in c:\\users\\sabrinalopez\\anaconda3\\envs\\nlpproject\\lib\\site-packages (from huggingface_hub) (24.2)\n",
      "Requirement already satisfied: pyyaml>=5.1 in c:\\users\\sabrinalopez\\anaconda3\\envs\\nlpproject\\lib\\site-packages (from huggingface_hub) (6.0.2)\n",
      "Requirement already satisfied: requests in c:\\users\\sabrinalopez\\anaconda3\\envs\\nlpproject\\lib\\site-packages (from huggingface_hub) (2.32.3)\n",
      "Requirement already satisfied: tqdm>=4.42.1 in c:\\users\\sabrinalopez\\anaconda3\\envs\\nlpproject\\lib\\site-packages (from huggingface_hub) (4.67.0)\n",
      "Requirement already satisfied: typing-extensions>=3.7.4.3 in c:\\users\\sabrinalopez\\anaconda3\\envs\\nlpproject\\lib\\site-packages (from huggingface_hub) (4.12.2)\n",
      "Requirement already satisfied: colorama in c:\\users\\sabrinalopez\\anaconda3\\envs\\nlpproject\\lib\\site-packages (from tqdm>=4.42.1->huggingface_hub) (0.4.6)\n",
      "Requirement already satisfied: charset-normalizer<4,>=2 in c:\\users\\sabrinalopez\\anaconda3\\envs\\nlpproject\\lib\\site-packages (from requests->huggingface_hub) (3.4.0)\n",
      "Requirement already satisfied: idna<4,>=2.5 in c:\\users\\sabrinalopez\\anaconda3\\envs\\nlpproject\\lib\\site-packages (from requests->huggingface_hub) (3.10)\n",
      "Requirement already satisfied: urllib3<3,>=1.21.1 in c:\\users\\sabrinalopez\\anaconda3\\envs\\nlpproject\\lib\\site-packages (from requests->huggingface_hub) (2.2.3)\n",
      "Requirement already satisfied: certifi>=2017.4.17 in c:\\users\\sabrinalopez\\anaconda3\\envs\\nlpproject\\lib\\site-packages (from requests->huggingface_hub) (2024.8.30)\n"
     ]
    }
   ],
   "source": [
    "!pip install huggingface_hub"
   ]
  },
  {
   "cell_type": "code",
   "execution_count": 4,
   "metadata": {},
   "outputs": [
    {
     "data": {
      "text/html": [
       "<div>\n",
       "<style scoped>\n",
       "    .dataframe tbody tr th:only-of-type {\n",
       "        vertical-align: middle;\n",
       "    }\n",
       "\n",
       "    .dataframe tbody tr th {\n",
       "        vertical-align: top;\n",
       "    }\n",
       "\n",
       "    .dataframe thead th {\n",
       "        text-align: right;\n",
       "    }\n",
       "</style>\n",
       "<table border=\"1\" class=\"dataframe\">\n",
       "  <thead>\n",
       "    <tr style=\"text-align: right;\">\n",
       "      <th></th>\n",
       "      <th>title</th>\n",
       "      <th>text</th>\n",
       "      <th>label</th>\n",
       "      <th>label_text</th>\n",
       "    </tr>\n",
       "  </thead>\n",
       "  <tbody>\n",
       "    <tr>\n",
       "      <th>0</th>\n",
       "      <td>Need help</td>\n",
       "      <td>Hi I don't really know how to phrase this situ...</td>\n",
       "      <td>0</td>\n",
       "      <td>depression</td>\n",
       "    </tr>\n",
       "    <tr>\n",
       "      <th>1</th>\n",
       "      <td>feeling so overwhelmed and hopeless</td>\n",
       "      <td>i have been so depressed these past couple wee...</td>\n",
       "      <td>1</td>\n",
       "      <td>suicidal</td>\n",
       "    </tr>\n",
       "    <tr>\n",
       "      <th>2</th>\n",
       "      <td>Nothing matters anymore, getting worse</td>\n",
       "      <td>Hi..I don't know where else to go. I am devast...</td>\n",
       "      <td>0</td>\n",
       "      <td>depression</td>\n",
       "    </tr>\n",
       "    <tr>\n",
       "      <th>3</th>\n",
       "      <td>Who’s tired of hearing bullshit</td>\n",
       "      <td>The shit like “it will get better, everyone is...</td>\n",
       "      <td>1</td>\n",
       "      <td>suicidal</td>\n",
       "    </tr>\n",
       "    <tr>\n",
       "      <th>4</th>\n",
       "      <td>I wish I was someone else.</td>\n",
       "      <td>I wish I was prettier. I wish I didn’t feel li...</td>\n",
       "      <td>0</td>\n",
       "      <td>depression</td>\n",
       "    </tr>\n",
       "    <tr>\n",
       "      <th>...</th>\n",
       "      <td>...</td>\n",
       "      <td>...</td>\n",
       "      <td>...</td>\n",
       "      <td>...</td>\n",
       "    </tr>\n",
       "    <tr>\n",
       "      <th>1890</th>\n",
       "      <td>think its over</td>\n",
       "      <td>i just don’t wanna live anymore so yeah</td>\n",
       "      <td>0</td>\n",
       "      <td>depression</td>\n",
       "    </tr>\n",
       "    <tr>\n",
       "      <th>1891</th>\n",
       "      <td>To all of those feeling isolated and suffering...</td>\n",
       "      <td>I’ve learned that life is fucking sad sometime...</td>\n",
       "      <td>0</td>\n",
       "      <td>depression</td>\n",
       "    </tr>\n",
       "    <tr>\n",
       "      <th>1892</th>\n",
       "      <td>I just really wish I had died the first time I...</td>\n",
       "      <td>That's all. Nothing has gotten better and I've...</td>\n",
       "      <td>1</td>\n",
       "      <td>suicidal</td>\n",
       "    </tr>\n",
       "    <tr>\n",
       "      <th>1893</th>\n",
       "      <td>I feel unimportant.</td>\n",
       "      <td>Not the first time I'm going through this of c...</td>\n",
       "      <td>0</td>\n",
       "      <td>depression</td>\n",
       "    </tr>\n",
       "    <tr>\n",
       "      <th>1894</th>\n",
       "      <td>I’m now genuinely thinking life for others wou...</td>\n",
       "      <td>Fight with my fiancée. Potential for her endin...</td>\n",
       "      <td>1</td>\n",
       "      <td>suicidal</td>\n",
       "    </tr>\n",
       "  </tbody>\n",
       "</table>\n",
       "<p>1895 rows × 4 columns</p>\n",
       "</div>"
      ],
      "text/plain": [
       "                                                  title  \\\n",
       "0                                             Need help   \n",
       "1                   feeling so overwhelmed and hopeless   \n",
       "2                Nothing matters anymore, getting worse   \n",
       "3                       Who’s tired of hearing bullshit   \n",
       "4                            I wish I was someone else.   \n",
       "...                                                 ...   \n",
       "1890                                     think its over   \n",
       "1891  To all of those feeling isolated and suffering...   \n",
       "1892  I just really wish I had died the first time I...   \n",
       "1893                                I feel unimportant.   \n",
       "1894  I’m now genuinely thinking life for others wou...   \n",
       "\n",
       "                                                   text  label  label_text  \n",
       "0     Hi I don't really know how to phrase this situ...      0  depression  \n",
       "1     i have been so depressed these past couple wee...      1    suicidal  \n",
       "2     Hi..I don't know where else to go. I am devast...      0  depression  \n",
       "3     The shit like “it will get better, everyone is...      1    suicidal  \n",
       "4     I wish I was prettier. I wish I didn’t feel li...      0  depression  \n",
       "...                                                 ...    ...         ...  \n",
       "1890            i just don’t wanna live anymore so yeah      0  depression  \n",
       "1891  I’ve learned that life is fucking sad sometime...      0  depression  \n",
       "1892  That's all. Nothing has gotten better and I've...      1    suicidal  \n",
       "1893  Not the first time I'm going through this of c...      0  depression  \n",
       "1894  Fight with my fiancée. Potential for her endin...      1    suicidal  \n",
       "\n",
       "[1895 rows x 4 columns]"
      ]
     },
     "execution_count": 4,
     "metadata": {},
     "output_type": "execute_result"
    }
   ],
   "source": [
    "df"
   ]
  },
  {
   "cell_type": "code",
   "execution_count": 5,
   "metadata": {},
   "outputs": [
    {
     "data": {
      "text/plain": [
       "0    Hi I don't really know how to phrase this situ...\n",
       "1    i have been so depressed these past couple wee...\n",
       "2    Hi..I don't know where else to go. I am devast...\n",
       "3    The shit like “it will get better, everyone is...\n",
       "4    I wish I was prettier. I wish I didn’t feel li...\n",
       "Name: text, dtype: object"
      ]
     },
     "execution_count": 5,
     "metadata": {},
     "output_type": "execute_result"
    }
   ],
   "source": [
    "df['text'].head()"
   ]
  },
  {
   "cell_type": "code",
   "execution_count": 6,
   "metadata": {},
   "outputs": [],
   "source": [
    "for idx, str in enumerate(df['text']):\n",
    "    # print(string)\n",
    "\n",
    "    clean_str = list([val for val in str if val.isalnum() or val == ' '])\n",
    "    clean_str = ''.join(clean_str)\n",
    "    low_clean_str = clean_str.lower()\n",
    "\n",
    "    # print(low_clean_str)\n",
    "\n",
    "    df = df.replace(df['text'][idx], low_clean_str)"
   ]
  },
  {
   "cell_type": "code",
   "execution_count": 7,
   "metadata": {},
   "outputs": [
    {
     "data": {
      "text/plain": [
       "'hi i dont really know how to phrase this situation but ill try my life is at a really good point right now im never really depressed over stuff and 99 percent of the time my mind is clear im about to graduate high school and im really excited however people in my family and friend group have tons of issues wether they sleep all day hate themselves or have no ambition to keep living on in this world theyve got problems i dont wanna sound like im gloating but usually im the person that a lot of these people end up going to because usually im able to talk people through issues and help them in the long run yeah sometimes their issues make me really sad and stuff because who doesnt feel sad when people are telling you they feel worthlessbut today one of my best friends showed me that he was cutting and it really effected me i talked to him about it and its mostly because of how painfully bored he is and he doesnt even know why hes doing it hes a pretty logical guy he will go to class and just sit there for and hour most of the time doing nothing challenging because thats the way our school works he has clinically diagnosed depression has been to a psychiatric ward and sees a therapist regularly its only been a couple hours since he showed me his arm and i didnt even see all of it ive got two main problems right now first i dont really know how to help him he said literally the only thing i can really do is just hang out with him after school and on the weekends so he doesnt just sit in bed all day ive been trying to make an effort to do that as much as i can but i need to do more he said himself that as long as he goes to highschool and considering its the law hes going to feel this way until we graduate i just need to know something i can do to help him do i tell his parents a therapist wont help he already goes to one should i talk to him more about it tomorrow i just dont knowsecond stuff like this is really effecting me i just feel that the world is being unfair to everyone i care about and i just want everyone i love to feel better as of lately ive been feeling depressed whenever my friends need to talk about issues and its really weighing down on me i just dont want to leave the people i care about down in the dirt so yeah if anyone has any advice whatsoever please help me im normally able to deal with these feelings and help my friends but right now im struggling thank you '"
      ]
     },
     "execution_count": 7,
     "metadata": {},
     "output_type": "execute_result"
    }
   ],
   "source": [
    "df['text'][0]"
   ]
  },
  {
   "cell_type": "code",
   "execution_count": 8,
   "metadata": {},
   "outputs": [
    {
     "name": "stdout",
     "output_type": "stream",
     "text": [
      "Requirement already satisfied: transformers in c:\\users\\sabrinalopez\\anaconda3\\envs\\nlpproject\\lib\\site-packages (4.46.2)\n",
      "Requirement already satisfied: sentencepiece in c:\\users\\sabrinalopez\\anaconda3\\envs\\nlpproject\\lib\\site-packages (0.2.0)\n",
      "Requirement already satisfied: torch in c:\\users\\sabrinalopez\\anaconda3\\envs\\nlpproject\\lib\\site-packages (2.5.1)\n",
      "Requirement already satisfied: filelock in c:\\users\\sabrinalopez\\anaconda3\\envs\\nlpproject\\lib\\site-packages (from transformers) (3.16.1)\n",
      "Requirement already satisfied: huggingface-hub<1.0,>=0.23.2 in c:\\users\\sabrinalopez\\anaconda3\\envs\\nlpproject\\lib\\site-packages (from transformers) (0.26.2)\n",
      "Requirement already satisfied: numpy>=1.17 in c:\\users\\sabrinalopez\\anaconda3\\envs\\nlpproject\\lib\\site-packages (from transformers) (2.0.2)\n",
      "Requirement already satisfied: packaging>=20.0 in c:\\users\\sabrinalopez\\anaconda3\\envs\\nlpproject\\lib\\site-packages (from transformers) (24.2)\n",
      "Requirement already satisfied: pyyaml>=5.1 in c:\\users\\sabrinalopez\\anaconda3\\envs\\nlpproject\\lib\\site-packages (from transformers) (6.0.2)\n",
      "Requirement already satisfied: regex!=2019.12.17 in c:\\users\\sabrinalopez\\anaconda3\\envs\\nlpproject\\lib\\site-packages (from transformers) (2024.11.6)\n",
      "Requirement already satisfied: requests in c:\\users\\sabrinalopez\\anaconda3\\envs\\nlpproject\\lib\\site-packages (from transformers) (2.32.3)\n",
      "Requirement already satisfied: safetensors>=0.4.1 in c:\\users\\sabrinalopez\\anaconda3\\envs\\nlpproject\\lib\\site-packages (from transformers) (0.4.5)\n",
      "Requirement already satisfied: tokenizers<0.21,>=0.20 in c:\\users\\sabrinalopez\\anaconda3\\envs\\nlpproject\\lib\\site-packages (from transformers) (0.20.3)\n",
      "Requirement already satisfied: tqdm>=4.27 in c:\\users\\sabrinalopez\\anaconda3\\envs\\nlpproject\\lib\\site-packages (from transformers) (4.67.0)\n",
      "Requirement already satisfied: typing-extensions>=4.8.0 in c:\\users\\sabrinalopez\\anaconda3\\envs\\nlpproject\\lib\\site-packages (from torch) (4.12.2)\n",
      "Requirement already satisfied: networkx in c:\\users\\sabrinalopez\\anaconda3\\envs\\nlpproject\\lib\\site-packages (from torch) (3.2.1)\n",
      "Requirement already satisfied: jinja2 in c:\\users\\sabrinalopez\\anaconda3\\envs\\nlpproject\\lib\\site-packages (from torch) (3.1.4)\n",
      "Requirement already satisfied: fsspec in c:\\users\\sabrinalopez\\anaconda3\\envs\\nlpproject\\lib\\site-packages (from torch) (2024.10.0)\n",
      "Requirement already satisfied: sympy==1.13.1 in c:\\users\\sabrinalopez\\anaconda3\\envs\\nlpproject\\lib\\site-packages (from torch) (1.13.1)\n",
      "Requirement already satisfied: mpmath<1.4,>=1.1.0 in c:\\users\\sabrinalopez\\anaconda3\\envs\\nlpproject\\lib\\site-packages (from sympy==1.13.1->torch) (1.3.0)\n",
      "Requirement already satisfied: colorama in c:\\users\\sabrinalopez\\anaconda3\\envs\\nlpproject\\lib\\site-packages (from tqdm>=4.27->transformers) (0.4.6)\n",
      "Requirement already satisfied: MarkupSafe>=2.0 in c:\\users\\sabrinalopez\\anaconda3\\envs\\nlpproject\\lib\\site-packages (from jinja2->torch) (3.0.2)\n",
      "Requirement already satisfied: charset-normalizer<4,>=2 in c:\\users\\sabrinalopez\\anaconda3\\envs\\nlpproject\\lib\\site-packages (from requests->transformers) (3.4.0)\n",
      "Requirement already satisfied: idna<4,>=2.5 in c:\\users\\sabrinalopez\\anaconda3\\envs\\nlpproject\\lib\\site-packages (from requests->transformers) (3.10)\n",
      "Requirement already satisfied: urllib3<3,>=1.21.1 in c:\\users\\sabrinalopez\\anaconda3\\envs\\nlpproject\\lib\\site-packages (from requests->transformers) (2.2.3)\n",
      "Requirement already satisfied: certifi>=2017.4.17 in c:\\users\\sabrinalopez\\anaconda3\\envs\\nlpproject\\lib\\site-packages (from requests->transformers) (2024.8.30)\n"
     ]
    }
   ],
   "source": [
    "!pip install transformers sentencepiece torch"
   ]
  },
  {
   "cell_type": "code",
   "execution_count": null,
   "metadata": {},
   "outputs": [],
   "source": [
    "from transformers import AutoTokenizer, XLMRobertaModel\n",
    "\n",
    "tokenizer = AutoTokenizer.from_pretrained('xlm-roberta-base')\n",
    "model = XLMRobertaModel.from_pretrained('xlm-roberta-base', num_labels=2)"
   ]
  },
  {
   "cell_type": "code",
   "execution_count": null,
   "metadata": {},
   "outputs": [],
   "source": []
  }
 ],
 "metadata": {
  "kernelspec": {
   "display_name": "nlpproject",
   "language": "python",
   "name": "python3"
  },
  "language_info": {
   "codemirror_mode": {
    "name": "ipython",
    "version": 3
   },
   "file_extension": ".py",
   "mimetype": "text/x-python",
   "name": "python",
   "nbconvert_exporter": "python",
   "pygments_lexer": "ipython3",
   "version": "3.9.20"
  }
 },
 "nbformat": 4,
 "nbformat_minor": 2
}
